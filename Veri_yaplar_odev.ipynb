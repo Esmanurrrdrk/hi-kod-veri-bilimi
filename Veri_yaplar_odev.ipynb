{
 "cells": [
  {
   "cell_type": "markdown",
   "id": "032d81b2",
   "metadata": {},
   "source": [
    "# 1\n",
    "x = 3 ----> floata çevirelim. Çevirdikten sonra beri tipinide yazdıralım.\n",
    "\n",
    "y = 4.5 -----> integere çevirelim. Çevirdikten sonra beri tipinide yazdıralım.\n",
    "\n",
    "z = \"8\" -----> integera çevirelim. Çevirdikten sonra beri tipinide yazdıralım.\n",
    "\n",
    "a = \"12\" -----> floata çevirelim. Çevirdikten sonra beri tipinide yazdıralım.\n",
    "\n",
    "b = \"46.8\" ------> integera çevirelim. Çevirdikten sonra beri tipinide yazdıralım."
   ]
  },
  {
   "cell_type": "code",
   "execution_count": 2,
   "id": "f1b735c0",
   "metadata": {},
   "outputs": [
    {
     "name": "stdout",
     "output_type": "stream",
     "text": [
      "3.0\n",
      "<class 'float'>\n",
      "4\n",
      "<class 'int'>\n",
      "8\n",
      "<class 'int'>\n",
      "12.0\n",
      "<class 'float'>\n"
     ]
    },
    {
     "ename": "ValueError",
     "evalue": "invalid literal for int() with base 10: '46.8'",
     "output_type": "error",
     "traceback": [
      "\u001b[1;31m---------------------------------------------------------------------------\u001b[0m",
      "\u001b[1;31mValueError\u001b[0m                                Traceback (most recent call last)",
      "Cell \u001b[1;32mIn[2], line 22\u001b[0m\n\u001b[0;32m     19\u001b[0m \u001b[38;5;28mprint\u001b[39m(\u001b[38;5;28mtype\u001b[39m(a))\n\u001b[0;32m     21\u001b[0m b\u001b[38;5;241m=\u001b[39m\u001b[38;5;124m\"\u001b[39m\u001b[38;5;124m46.8\u001b[39m\u001b[38;5;124m\"\u001b[39m\n\u001b[1;32m---> 22\u001b[0m b\u001b[38;5;241m=\u001b[39m\u001b[38;5;28mint\u001b[39m(b)\n\u001b[0;32m     23\u001b[0m \u001b[38;5;28mprint\u001b[39m(b)\n\u001b[0;32m     24\u001b[0m \u001b[38;5;28mprint\u001b[39m(\u001b[38;5;28mtype\u001b[39m(b))\n",
      "\u001b[1;31mValueError\u001b[0m: invalid literal for int() with base 10: '46.8'"
     ]
    }
   ],
   "source": [
    "x=3\n",
    "x=float(x)\n",
    "print(x)\n",
    "print(type(x))\n",
    "\n",
    "y=4.5\n",
    "y=int(y)\n",
    "print(y)\n",
    "print(type(y))\n",
    "\n",
    "z='8'\n",
    "z=int(z)\n",
    "print(z)\n",
    "print(type(z))\n",
    "\n",
    "a='12'\n",
    "a=float(a)\n",
    "print(a)\n",
    "print(type(a))\n",
    "\n",
    "b=\"46.8\"\n",
    "b=int(b)\n",
    "print(b)\n",
    "print(type(b))"
   ]
  },
  {
   "cell_type": "markdown",
   "id": "95509718",
   "metadata": {},
   "source": [
    "# 2 \n",
    "İsimlerden oluşan üç değişkene yaş değerleri atanır. Belirlenen üç değişken birbiriyle karşılaştırma operatörleri ile karşılaştırılır. Bu karşılaştırmalara mantıksal operatörler de eklenir."
   ]
  },
  {
   "cell_type": "code",
   "execution_count": 10,
   "id": "50f77b4f",
   "metadata": {},
   "outputs": [
    {
     "data": {
      "text/plain": [
       "True"
      ]
     },
     "execution_count": 10,
     "metadata": {},
     "output_type": "execute_result"
    }
   ],
   "source": [
    "eren=25\n",
    "ezgi=12\n",
    "berna=48\n",
    "\n",
    "12<25\n",
    "48>12\n",
    "25<=48\n",
    "25<48 and 25>12"
   ]
  },
  {
   "cell_type": "markdown",
   "id": "a1a0eb92",
   "metadata": {},
   "source": [
    "# 3\n",
    "Kullanıcıdan iki değer girmesini istenir. Girilen değerlerin toplama, çıkarma, çarpma, bölme sonuçlarını yazdırılır."
   ]
  },
  {
   "cell_type": "code",
   "execution_count": null,
   "id": "c361e45a",
   "metadata": {},
   "outputs": [],
   "source": [
    "dogumyili=input(\"Dogum Yiliniz:\")\n",
    "yasiniz=input(\"Yasiniz:\")\n",
    "\n",
    "int(yasiniz)+int(dogumyili)"
   ]
  },
  {
   "cell_type": "code",
   "execution_count": null,
   "id": "c1720d2b",
   "metadata": {},
   "outputs": [],
   "source": [
    "int(yasiniz)-int(dogumyili)"
   ]
  },
  {
   "cell_type": "code",
   "execution_count": null,
   "id": "e3249716",
   "metadata": {},
   "outputs": [],
   "source": [
    "int(yasiniz)*int(dogumyili)"
   ]
  },
  {
   "cell_type": "code",
   "execution_count": null,
   "id": "5844dc65",
   "metadata": {},
   "outputs": [],
   "source": [
    "int(yasiniz)/int(dogumyili)"
   ]
  },
  {
   "cell_type": "markdown",
   "id": "060b0bea",
   "metadata": {},
   "source": [
    "# 4\n",
    "Kullanıcıdan isim, yaş, şehir ve meslek bilgilerini istenir ve cevaplarını yazdırılır."
   ]
  },
  {
   "cell_type": "code",
   "execution_count": null,
   "id": "6f5dea59",
   "metadata": {},
   "outputs": [],
   "source": [
    "name=input(\"Name\")"
   ]
  },
  {
   "cell_type": "code",
   "execution_count": null,
   "id": "c0161de7",
   "metadata": {},
   "outputs": [],
   "source": [
    "age=input(\"Age\")"
   ]
  },
  {
   "cell_type": "code",
   "execution_count": 4,
   "id": "6f5493d0",
   "metadata": {},
   "outputs": [],
   "source": [
    "city=input(\"City\")"
   ]
  },
  {
   "cell_type": "code",
   "execution_count": null,
   "id": "58a157f6",
   "metadata": {},
   "outputs": [],
   "source": [
    "job=input(\"Job\")"
   ]
  },
  {
   "cell_type": "markdown",
   "id": "55e1a34e",
   "metadata": {},
   "source": [
    "# 5\n",
    "\"Hi-Kod Veri Bilimi Atölyesi\" ifadesini bir değişkene tanımlanır.\n",
    "\n",
    "\n",
    " 1. İfadedeki her bir kelimeyi (\"Hi-Kod\", \"Veri\", \"Bilimi\", \"Atölyesi\") değişken içinden seçilir. \n",
    " 2. İfadeyi hepsini büyük harf olacak hale çevrilir. (\"HI-KOD VERİ BİLİMİ ATÖLYESİ\") \n",
    " 3. İfadeyi hepsini büyük harf olacak hale çevrilir.(\"hi-kod veri bilimi atölyesi\") \n",
    "\n",
    "\"0123456789\" ifadesindeki yalnızca çift sayıları ve yalnızca tek sayıları seçilir. (\"02468\", \"13579\")"
   ]
  },
  {
   "cell_type": "code",
   "execution_count": null,
   "id": "0fc1bc40",
   "metadata": {},
   "outputs": [],
   "source": [
    "w=\"Hi-Kod\"\n",
    "a=\"Veri\"\n",
    "s=\"Bilimi\"\n",
    "d=\"Atölyesi\""
   ]
  },
  {
   "cell_type": "code",
   "execution_count": null,
   "id": "15ef5a1a",
   "metadata": {},
   "outputs": [],
   "source": [
    "w=\"Hi-kod\"\n",
    "w.upper()"
   ]
  },
  {
   "cell_type": "code",
   "execution_count": null,
   "id": "6e3f4274",
   "metadata": {},
   "outputs": [],
   "source": [
    "a=\"Veri\"\n",
    "a.upper()"
   ]
  },
  {
   "cell_type": "code",
   "execution_count": null,
   "id": "e89ebcd2",
   "metadata": {},
   "outputs": [],
   "source": [
    "s=\"Bilimi\"\n",
    "s.upper()"
   ]
  },
  {
   "cell_type": "code",
   "execution_count": 1,
   "id": "1925bce1",
   "metadata": {},
   "outputs": [
    {
     "data": {
      "text/plain": [
       "'ATÖLYESI'"
      ]
     },
     "execution_count": 1,
     "metadata": {},
     "output_type": "execute_result"
    }
   ],
   "source": [
    "d=\"Atölyesi\"\n",
    "d.upper()"
   ]
  },
  {
   "cell_type": "code",
   "execution_count": null,
   "id": "6d0c2b35",
   "metadata": {},
   "outputs": [],
   "source": [
    "w=\"Hi-kod\"\n",
    "w.lower()"
   ]
  },
  {
   "cell_type": "code",
   "execution_count": null,
   "id": "dc85dce4",
   "metadata": {},
   "outputs": [],
   "source": [
    "a=\"Veri\"\n",
    "a.lower()"
   ]
  },
  {
   "cell_type": "code",
   "execution_count": 1,
   "id": "bda480c3",
   "metadata": {},
   "outputs": [
    {
     "data": {
      "text/plain": [
       "'bilimi'"
      ]
     },
     "execution_count": 1,
     "metadata": {},
     "output_type": "execute_result"
    }
   ],
   "source": [
    "s=\"Bilimi\"\n",
    "s.lower()"
   ]
  },
  {
   "cell_type": "code",
   "execution_count": null,
   "id": "f67bcff6",
   "metadata": {},
   "outputs": [],
   "source": [
    "d=\"Atölyesi\"\n",
    "d.lower()"
   ]
  },
  {
   "cell_type": "code",
   "execution_count": 1,
   "id": "188b833d",
   "metadata": {},
   "outputs": [
    {
     "ename": "SyntaxError",
     "evalue": "invalid syntax (194148183.py, line 8)",
     "output_type": "error",
     "traceback": [
      "\u001b[1;36m  Cell \u001b[1;32mIn[1], line 8\u001b[1;36m\u001b[0m\n\u001b[1;33m    elif:\u001b[0m\n\u001b[1;37m        ^\u001b[0m\n\u001b[1;31mSyntaxError\u001b[0m\u001b[1;31m:\u001b[0m invalid syntax\n"
     ]
    }
   ],
   "source": [
    "list1 = [0,1,2,3,4,5,6,7,8,9] \n",
    "  \n",
    "for num in list1: \n",
    "      \n",
    "     \n",
    "    if num % 2 == 0: \n",
    "       print(num, end = \" \")\n",
    "    elif:\n",
    "    print(num,end=\"\")"
   ]
  },
  {
   "cell_type": "code",
   "execution_count": null,
   "id": "e1a21467",
   "metadata": {},
   "outputs": [],
   "source": []
  }
 ],
 "metadata": {
  "kernelspec": {
   "display_name": "Python 3 (ipykernel)",
   "language": "python",
   "name": "python3"
  },
  "language_info": {
   "codemirror_mode": {
    "name": "ipython",
    "version": 3
   },
   "file_extension": ".py",
   "mimetype": "text/x-python",
   "name": "python",
   "nbconvert_exporter": "python",
   "pygments_lexer": "ipython3",
   "version": "3.11.5"
  }
 },
 "nbformat": 4,
 "nbformat_minor": 5
}
